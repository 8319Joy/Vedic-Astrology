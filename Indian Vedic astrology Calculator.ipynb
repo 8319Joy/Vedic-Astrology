{
 "cells": [
  {
   "cell_type": "markdown",
   "id": "75025abc",
   "metadata": {},
   "source": [
    "Below is a simple Python program that calculates a person's zodiac sign and gives a brief interpretation according to Indian astrology (Vedic astrology). Indian astrology primarily relies on the Moon sign and the position of planets at the time of birth.For the sake of simplicity, this example will use the Sun sign basis. To implement this, we first need to know the person's date of birth, and then we can ascertain their Sun sign according to Vedic astrology.Here's a simple Python program to compute the Sun sign based on the birth date:"
   ]
  },
  {
   "cell_type": "code",
   "execution_count": 1,
   "id": "04d35ef3",
   "metadata": {},
   "outputs": [
    {
     "name": "stdout",
     "output_type": "stream",
     "text": [
      "Enter your date of birth (YYYY-MM-DD): 1983-05-13\n",
      "Your zodiac sign is: Taurus\n"
     ]
    }
   ],
   "source": [
    "from datetime import datetime\n",
    "\n",
    "def get_zodiac_sign(date_of_birth):\n",
    "    # Zodiac signs and their date ranges\n",
    "    zodiac_signs = [\n",
    "        (\"Capricorn\",  (datetime(1, 1, 1), datetime(1, 1, 19))),    # January 1 - January 19\n",
    "        (\"Aquarius\",   (datetime(1, 1, 20), datetime(1, 2, 18))),   # January 20 - February 18\n",
    "        (\"Pisces\",     (datetime(1, 2, 19), datetime(1, 3, 20))),   # February 19 - March 20\n",
    "        (\"Aries\",      (datetime(1, 3, 21), datetime(1, 4, 19))),   # March 21 - April 19\n",
    "        (\"Taurus\",     (datetime(1, 4, 20), datetime(1, 5, 20))),   # April 20 - May 20\n",
    "        (\"Gemini\",     (datetime(1, 5, 21), datetime(1, 6, 20))),   # May 21 - June 20\n",
    "        (\"Cancer\",     (datetime(1, 6, 21), datetime(1, 7, 22))),   # June 21 - July 22\n",
    "        (\"Leo\",        (datetime(1, 7, 23), datetime(1, 8, 22))),   # July 23 - August 22\n",
    "        (\"Virgo\",      (datetime(1, 8, 23), datetime(1, 9, 22))),   # August 23 - September 22\n",
    "        (\"Libra\",      (datetime(1, 9, 23), datetime(1, 10, 22))),  # September 23 - October 22\n",
    "        (\"Scorpio\",    (datetime(1, 10, 23), datetime(1, 11, 21))), # October 23 - November 21\n",
    "        (\"Sagittarius\",(datetime(1, 11, 22), datetime(1, 12, 21))), # November 22 - December 21\n",
    "        (\"Capricorn\",  (datetime(1, 12, 22), datetime(1, 12, 31)))  # December 22 - December 31\n",
    "    ]\n",
    "    \n",
    "    # Extract the month and day for comparison\n",
    "    birth_date = datetime.strptime(date_of_birth, '%Y-%m-%d')\n",
    "    month_day = datetime(1, birth_date.month, birth_date.day)\n",
    "    \n",
    "    # Determine zodiac sign\n",
    "    for sign, (start_date, end_date) in zodiac_signs:\n",
    "        if start_date.month == end_date.month:  # Single month zodiac\n",
    "            if month_day.month == start_date.month and start_date.day <= month_day.day <= end_date.day:\n",
    "                return sign\n",
    "        else:  # Cross month zodiac (Capricorn and Sagittarius)\n",
    "            if (month_day.month == start_date.month and month_day.day >= start_date.day) or \\\n",
    "               (month_day.month == end_date.month and month_day.day <= end_date.day):\n",
    "                return sign\n",
    "\n",
    "    return None\n",
    "\n",
    "def main():\n",
    "    # User input for date of birth\n",
    "    dob = input(\"Enter your date of birth (YYYY-MM-DD): \")\n",
    "    zodiac_sign = get_zodiac_sign(dob)\n",
    "    \n",
    "    if zodiac_sign:\n",
    "        print(f\"Your zodiac sign is: {zodiac_sign}\")\n",
    "    else:\n",
    "        print(\"Invalid date of birth entered.\")\n",
    "\n",
    "if __name__ == \"__main__\":\n",
    "    main()"
   ]
  },
  {
   "cell_type": "raw",
   "id": "3ca6ede5",
   "metadata": {},
   "source": [
    "The function get_zodiac_sign retrieves the Zodiac sign from the list based on the birth date provided.Make sure that you handle potential errors (like incorrect date formats) in a more robust implementation.NoteThis simple program only calculates the Sun sign. For a more accurate calculation according to Indian astrology (which takes into account the Moon sign and the exact position of the planets), you would typically use a library like AstroPy or generate a Kundli using comprehensive astrological calculations."
   ]
  },
  {
   "cell_type": "markdown",
   "id": "969b9930",
   "metadata": {},
   "source": [
    "Vedic astrology prediction tool in Python requires knowledge about astrological principles, astronomical computations, and the respective planetary positions for a specific date, time, and location. For a basic implementation, we can create a program that uses the birth date, time, and location to make predictions related to a person's personality traits, career, relationships, etc., generally based on their Moon sign or Lagna (Ascendant) based on Vedic astrology.\n",
    "\n",
    "While creating a full-fledged Vedic astrology prediction tool is quite complex and requires extensive datasets on planetary positions, we can create a very simplified version instead.\n",
    "\n",
    "Here’s a Python program that takes a person's birth details (date, time, and location) to determine their Moon sign and make a basic personality prediction based on that sign.\n",
    "\n",
    "Note:\n",
    "For a real-world application, you would ideally use a library or API like pyswisseph (a Python wrapper for the Swiss Ephemeris) to calculate planetary positions accurately.\n",
    "\n",
    "Here’s a simplified version of a horoscope calculation tool using Moon signs only:"
   ]
  },
  {
   "cell_type": "code",
   "execution_count": 2,
   "id": "a9633142",
   "metadata": {},
   "outputs": [
    {
     "name": "stdout",
     "output_type": "stream",
     "text": [
      "Enter your date of birth (YYYY-MM-DD): 1983-05-13\n",
      "Your Moon sign is: Taurus\n",
      "Prediction for you:\n",
      "You are practical, stable, and reliable. You cherish life’s pleasures and comforts.\n"
     ]
    }
   ],
   "source": [
    "from datetime import datetime\n",
    "\n",
    "# Dictionary to define Moon sign predictions\n",
    "moon_sign_predictions = {\n",
    "    \"Aries\": \"You are energetic, adventurous, and pioneering. You thrive in competitive environments.\",\n",
    "    \"Taurus\": \"You are practical, stable, and reliable. You cherish life’s pleasures and comforts.\",\n",
    "    \"Gemini\": \"You are adaptable, communicative, and curious. A social butterfly, you enjoy learning.\",\n",
    "    \"Cancer\": \"You are intuitive, emotional, and nurturing. Family and home hold great importance for you.\",\n",
    "    \"Leo\": \"You are confident, ambitious, and charismatic. You thrive on being in the spotlight.\",\n",
    "    \"Virgo\": \"You are analytical, meticulous, and service-oriented. You excel at problem-solving.\",\n",
    "    \"Libra\": \"You are diplomatic, sociable, and peace-loving. You thrive in harmonious environments.\",\n",
    "    \"Scorpio\": \"You are passionate, resourceful, and intense. You hold deep emotions and are highly perceptive.\",\n",
    "    \"Sagittarius\": \"You are optimistic, freedom-loving, and explorative. Travel and adventure excite you.\",\n",
    "    \"Capricorn\": \"You are disciplined, responsible, and ambitious. You strive for achievement and success.\",\n",
    "    \"Aquarius\": \"You are innovative, unique, and humanitarian. You embrace change and the unconventional.\",\n",
    "    \"Pisces\": \"You are compassionate, artistic, and sensitive. You are often in touch with the spiritual side.\"\n",
    "}\n",
    "\n",
    "def calculate_moon_sign(dob):\n",
    "    \"\"\" A simplified function that returns the Moon sign based on the birth date. \"\"\"\n",
    "    # For demonstration, we use only birth month and day to determine Moon sign directly.\n",
    "    # A real calculation would need actual Moon position data.\n",
    "    dob_month_day = datetime.strptime(dob, '%Y-%m-%d')\n",
    "    month_day = (dob_month_day.month, dob_month_day.day)\n",
    "\n",
    "    # Determine Moon sign based on simplified data (for illustration only)\n",
    "    if (3, 21) <= month_day <= (4, 19):\n",
    "        return \"Aries\"\n",
    "    elif (4, 20) <= month_day <= (5, 20):\n",
    "        return \"Taurus\"\n",
    "    elif (5, 21) <= month_day <= (6, 20):\n",
    "        return \"Gemini\"\n",
    "    elif (6, 21) <= month_day <= (7, 22):\n",
    "        return \"Cancer\"\n",
    "    elif (7, 23) <= month_day <= (8, 22):\n",
    "        return \"Leo\"\n",
    "    elif (8, 23) <= month_day <= (9, 22):\n",
    "        return \"Virgo\"\n",
    "    elif (9, 23) <= month_day <= (10, 22):\n",
    "        return \"Libra\"\n",
    "    elif (10, 23) <= month_day <= (11, 21):\n",
    "        return \"Scorpio\"\n",
    "    elif (11, 22) <= month_day <= (12, 21):\n",
    "        return \"Sagittarius\"\n",
    "    elif (12, 22) <= month_day <= (1, 19):\n",
    "        return \"Capricorn\"\n",
    "    elif (1, 20) <= month_day <= (2, 18):\n",
    "        return \"Aquarius\"\n",
    "    elif (2, 19) <= month_day <= (3, 20):\n",
    "        return \"Pisces\"\n",
    "    \n",
    "    return None\n",
    "\n",
    "def main():\n",
    "    # User input for date of birth\n",
    "    dob = input(\"Enter your date of birth (YYYY-MM-DD): \")\n",
    "    \n",
    "    # Calculate Moon sign\n",
    "    moon_sign = calculate_moon_sign(dob)\n",
    "\n",
    "    if moon_sign:\n",
    "        print(f\"Your Moon sign is: {moon_sign}\")\n",
    "        print(\"Prediction for you:\")\n",
    "        print(moon_sign_predictions[moon_sign])\n",
    "    else:\n",
    "        print(\"Invalid date of birth entered.\")\n",
    "\n",
    "if __name__ == \"__main__\":\n",
    "    main()"
   ]
  },
  {
   "cell_type": "code",
   "execution_count": null,
   "id": "d225798a",
   "metadata": {},
   "outputs": [],
   "source": []
  }
 ],
 "metadata": {
  "kernelspec": {
   "display_name": "Python 3 (ipykernel)",
   "language": "python",
   "name": "python3"
  },
  "language_info": {
   "codemirror_mode": {
    "name": "ipython",
    "version": 3
   },
   "file_extension": ".py",
   "mimetype": "text/x-python",
   "name": "python",
   "nbconvert_exporter": "python",
   "pygments_lexer": "ipython3",
   "version": "3.11.4"
  }
 },
 "nbformat": 4,
 "nbformat_minor": 5
}
